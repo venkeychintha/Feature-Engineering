{
 "cells": [
  {
   "cell_type": "markdown",
   "id": "e6672240",
   "metadata": {},
   "source": [
    "## 3. Ordinal Number Encoding or Label Encoding"
   ]
  },
  {
   "cell_type": "code",
   "execution_count": 2,
   "id": "be3e0fe5",
   "metadata": {},
   "outputs": [],
   "source": [
    "import pandas as pd\n",
    "import numpy as np\n",
    "import datetime"
   ]
  },
  {
   "cell_type": "code",
   "execution_count": 3,
   "id": "2226f7c7",
   "metadata": {},
   "outputs": [],
   "source": [
    "#create a variable with dates, and from that extract the weekday\n",
    "df_base = datetime.datetime.today()\n",
    "\n",
    "#create list of dates with 10 days different from today\n",
    "df_date_list = [df_base-datetime.timedelta(days=x) for x in range(0, 10)]\n"
   ]
  },
  {
   "cell_type": "code",
   "execution_count": 4,
   "id": "d161fa4b",
   "metadata": {},
   "outputs": [
    {
     "data": {
      "text/plain": [
       "[datetime.datetime(2022, 3, 8, 11, 10, 2, 278340),\n",
       " datetime.datetime(2022, 3, 7, 11, 10, 2, 278340),\n",
       " datetime.datetime(2022, 3, 6, 11, 10, 2, 278340),\n",
       " datetime.datetime(2022, 3, 5, 11, 10, 2, 278340),\n",
       " datetime.datetime(2022, 3, 4, 11, 10, 2, 278340),\n",
       " datetime.datetime(2022, 3, 3, 11, 10, 2, 278340),\n",
       " datetime.datetime(2022, 3, 2, 11, 10, 2, 278340),\n",
       " datetime.datetime(2022, 3, 1, 11, 10, 2, 278340),\n",
       " datetime.datetime(2022, 2, 28, 11, 10, 2, 278340),\n",
       " datetime.datetime(2022, 2, 27, 11, 10, 2, 278340)]"
      ]
     },
     "execution_count": 4,
     "metadata": {},
     "output_type": "execute_result"
    }
   ],
   "source": [
    "df_date_list"
   ]
  },
  {
   "cell_type": "code",
   "execution_count": 5,
   "id": "170e3ad0",
   "metadata": {},
   "outputs": [
    {
     "data": {
      "text/html": [
       "<div>\n",
       "<style scoped>\n",
       "    .dataframe tbody tr th:only-of-type {\n",
       "        vertical-align: middle;\n",
       "    }\n",
       "\n",
       "    .dataframe tbody tr th {\n",
       "        vertical-align: top;\n",
       "    }\n",
       "\n",
       "    .dataframe thead th {\n",
       "        text-align: right;\n",
       "    }\n",
       "</style>\n",
       "<table border=\"1\" class=\"dataframe\">\n",
       "  <thead>\n",
       "    <tr style=\"text-align: right;\">\n",
       "      <th></th>\n",
       "      <th>day</th>\n",
       "    </tr>\n",
       "  </thead>\n",
       "  <tbody>\n",
       "    <tr>\n",
       "      <th>0</th>\n",
       "      <td>2022-03-08 11:10:02.278340</td>\n",
       "    </tr>\n",
       "    <tr>\n",
       "      <th>1</th>\n",
       "      <td>2022-03-07 11:10:02.278340</td>\n",
       "    </tr>\n",
       "    <tr>\n",
       "      <th>2</th>\n",
       "      <td>2022-03-06 11:10:02.278340</td>\n",
       "    </tr>\n",
       "    <tr>\n",
       "      <th>3</th>\n",
       "      <td>2022-03-05 11:10:02.278340</td>\n",
       "    </tr>\n",
       "    <tr>\n",
       "      <th>4</th>\n",
       "      <td>2022-03-04 11:10:02.278340</td>\n",
       "    </tr>\n",
       "    <tr>\n",
       "      <th>5</th>\n",
       "      <td>2022-03-03 11:10:02.278340</td>\n",
       "    </tr>\n",
       "    <tr>\n",
       "      <th>6</th>\n",
       "      <td>2022-03-02 11:10:02.278340</td>\n",
       "    </tr>\n",
       "    <tr>\n",
       "      <th>7</th>\n",
       "      <td>2022-03-01 11:10:02.278340</td>\n",
       "    </tr>\n",
       "    <tr>\n",
       "      <th>8</th>\n",
       "      <td>2022-02-28 11:10:02.278340</td>\n",
       "    </tr>\n",
       "    <tr>\n",
       "      <th>9</th>\n",
       "      <td>2022-02-27 11:10:02.278340</td>\n",
       "    </tr>\n",
       "  </tbody>\n",
       "</table>\n",
       "</div>"
      ],
      "text/plain": [
       "                         day\n",
       "0 2022-03-08 11:10:02.278340\n",
       "1 2022-03-07 11:10:02.278340\n",
       "2 2022-03-06 11:10:02.278340\n",
       "3 2022-03-05 11:10:02.278340\n",
       "4 2022-03-04 11:10:02.278340\n",
       "5 2022-03-03 11:10:02.278340\n",
       "6 2022-03-02 11:10:02.278340\n",
       "7 2022-03-01 11:10:02.278340\n",
       "8 2022-02-28 11:10:02.278340\n",
       "9 2022-02-27 11:10:02.278340"
      ]
     },
     "execution_count": 5,
     "metadata": {},
     "output_type": "execute_result"
    }
   ],
   "source": [
    "# transform the list into dataframe\n",
    "df = pd.DataFrame(df_date_list)\n",
    "df.columns = ['day']\n",
    "df"
   ]
  },
  {
   "cell_type": "code",
   "execution_count": 6,
   "id": "e750c9d7",
   "metadata": {},
   "outputs": [
    {
     "data": {
      "text/html": [
       "<div>\n",
       "<style scoped>\n",
       "    .dataframe tbody tr th:only-of-type {\n",
       "        vertical-align: middle;\n",
       "    }\n",
       "\n",
       "    .dataframe tbody tr th {\n",
       "        vertical-align: top;\n",
       "    }\n",
       "\n",
       "    .dataframe thead th {\n",
       "        text-align: right;\n",
       "    }\n",
       "</style>\n",
       "<table border=\"1\" class=\"dataframe\">\n",
       "  <thead>\n",
       "    <tr style=\"text-align: right;\">\n",
       "      <th></th>\n",
       "      <th>day</th>\n",
       "      <th>day_of_week</th>\n",
       "    </tr>\n",
       "  </thead>\n",
       "  <tbody>\n",
       "    <tr>\n",
       "      <th>0</th>\n",
       "      <td>2022-03-08 11:10:02.278340</td>\n",
       "      <td>Tuesday</td>\n",
       "    </tr>\n",
       "    <tr>\n",
       "      <th>1</th>\n",
       "      <td>2022-03-07 11:10:02.278340</td>\n",
       "      <td>Monday</td>\n",
       "    </tr>\n",
       "    <tr>\n",
       "      <th>2</th>\n",
       "      <td>2022-03-06 11:10:02.278340</td>\n",
       "      <td>Sunday</td>\n",
       "    </tr>\n",
       "    <tr>\n",
       "      <th>3</th>\n",
       "      <td>2022-03-05 11:10:02.278340</td>\n",
       "      <td>Saturday</td>\n",
       "    </tr>\n",
       "    <tr>\n",
       "      <th>4</th>\n",
       "      <td>2022-03-04 11:10:02.278340</td>\n",
       "      <td>Friday</td>\n",
       "    </tr>\n",
       "  </tbody>\n",
       "</table>\n",
       "</div>"
      ],
      "text/plain": [
       "                         day day_of_week\n",
       "0 2022-03-08 11:10:02.278340     Tuesday\n",
       "1 2022-03-07 11:10:02.278340      Monday\n",
       "2 2022-03-06 11:10:02.278340      Sunday\n",
       "3 2022-03-05 11:10:02.278340    Saturday\n",
       "4 2022-03-04 11:10:02.278340      Friday"
      ]
     },
     "execution_count": 6,
     "metadata": {},
     "output_type": "execute_result"
    }
   ],
   "source": [
    "df['day_of_week'] = df['day'].dt.day_name()  #generated day name for each date\n",
    "df.head()"
   ]
  },
  {
   "cell_type": "code",
   "execution_count": 7,
   "id": "21e9dea3",
   "metadata": {},
   "outputs": [
    {
     "data": {
      "text/html": [
       "<div>\n",
       "<style scoped>\n",
       "    .dataframe tbody tr th:only-of-type {\n",
       "        vertical-align: middle;\n",
       "    }\n",
       "\n",
       "    .dataframe tbody tr th {\n",
       "        vertical-align: top;\n",
       "    }\n",
       "\n",
       "    .dataframe thead th {\n",
       "        text-align: right;\n",
       "    }\n",
       "</style>\n",
       "<table border=\"1\" class=\"dataframe\">\n",
       "  <thead>\n",
       "    <tr style=\"text-align: right;\">\n",
       "      <th></th>\n",
       "      <th>day</th>\n",
       "      <th>day_of_week</th>\n",
       "      <th>day_ordinal</th>\n",
       "    </tr>\n",
       "  </thead>\n",
       "  <tbody>\n",
       "    <tr>\n",
       "      <th>0</th>\n",
       "      <td>2022-03-08 11:10:02.278340</td>\n",
       "      <td>Tuesday</td>\n",
       "      <td>2</td>\n",
       "    </tr>\n",
       "    <tr>\n",
       "      <th>1</th>\n",
       "      <td>2022-03-07 11:10:02.278340</td>\n",
       "      <td>Monday</td>\n",
       "      <td>1</td>\n",
       "    </tr>\n",
       "    <tr>\n",
       "      <th>2</th>\n",
       "      <td>2022-03-06 11:10:02.278340</td>\n",
       "      <td>Sunday</td>\n",
       "      <td>7</td>\n",
       "    </tr>\n",
       "    <tr>\n",
       "      <th>3</th>\n",
       "      <td>2022-03-05 11:10:02.278340</td>\n",
       "      <td>Saturday</td>\n",
       "      <td>6</td>\n",
       "    </tr>\n",
       "    <tr>\n",
       "      <th>4</th>\n",
       "      <td>2022-03-04 11:10:02.278340</td>\n",
       "      <td>Friday</td>\n",
       "      <td>5</td>\n",
       "    </tr>\n",
       "    <tr>\n",
       "      <th>5</th>\n",
       "      <td>2022-03-03 11:10:02.278340</td>\n",
       "      <td>Thursday</td>\n",
       "      <td>4</td>\n",
       "    </tr>\n",
       "    <tr>\n",
       "      <th>6</th>\n",
       "      <td>2022-03-02 11:10:02.278340</td>\n",
       "      <td>Wednesday</td>\n",
       "      <td>3</td>\n",
       "    </tr>\n",
       "    <tr>\n",
       "      <th>7</th>\n",
       "      <td>2022-03-01 11:10:02.278340</td>\n",
       "      <td>Tuesday</td>\n",
       "      <td>2</td>\n",
       "    </tr>\n",
       "    <tr>\n",
       "      <th>8</th>\n",
       "      <td>2022-02-28 11:10:02.278340</td>\n",
       "      <td>Monday</td>\n",
       "      <td>1</td>\n",
       "    </tr>\n",
       "    <tr>\n",
       "      <th>9</th>\n",
       "      <td>2022-02-27 11:10:02.278340</td>\n",
       "      <td>Sunday</td>\n",
       "      <td>7</td>\n",
       "    </tr>\n",
       "  </tbody>\n",
       "</table>\n",
       "</div>"
      ],
      "text/plain": [
       "                         day day_of_week  day_ordinal\n",
       "0 2022-03-08 11:10:02.278340     Tuesday            2\n",
       "1 2022-03-07 11:10:02.278340      Monday            1\n",
       "2 2022-03-06 11:10:02.278340      Sunday            7\n",
       "3 2022-03-05 11:10:02.278340    Saturday            6\n",
       "4 2022-03-04 11:10:02.278340      Friday            5\n",
       "5 2022-03-03 11:10:02.278340    Thursday            4\n",
       "6 2022-03-02 11:10:02.278340   Wednesday            3\n",
       "7 2022-03-01 11:10:02.278340     Tuesday            2\n",
       "8 2022-02-28 11:10:02.278340      Monday            1\n",
       "9 2022-02-27 11:10:02.278340      Sunday            7"
      ]
     },
     "execution_count": 7,
     "metadata": {},
     "output_type": "execute_result"
    }
   ],
   "source": [
    "weekday_map = {\n",
    "    'Monday':1,\n",
    "    'Tuesday':2,\n",
    "    'Wednesday':3,\n",
    "    'Thursday':4,\n",
    "    'Friday':5,\n",
    "    'Saturday':6,\n",
    "    'Sunday':7\n",
    "}\n",
    "\n",
    "df['day_ordinal'] = df.day_of_week.map(weekday_map)\n",
    "df.head(10)  #assign rank to each day"
   ]
  },
  {
   "cell_type": "code",
   "execution_count": null,
   "id": "92e4ac7c",
   "metadata": {},
   "outputs": [],
   "source": []
  }
 ],
 "metadata": {
  "kernelspec": {
   "display_name": "Python 3",
   "language": "python",
   "name": "python3"
  },
  "language_info": {
   "codemirror_mode": {
    "name": "ipython",
    "version": 3
   },
   "file_extension": ".py",
   "mimetype": "text/x-python",
   "name": "python",
   "nbconvert_exporter": "python",
   "pygments_lexer": "ipython3",
   "version": "3.8.8"
  }
 },
 "nbformat": 4,
 "nbformat_minor": 5
}
